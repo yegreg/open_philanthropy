{
 "cells": [
  {
   "cell_type": "code",
   "execution_count": 1,
   "metadata": {
    "collapsed": true
   },
   "outputs": [],
   "source": [
    "import numpy as np\n",
    "from matplotlib import pyplot as plt\n",
    "import scipy.stats"
   ]
  },
  {
   "cell_type": "code",
   "execution_count": 2,
   "metadata": {
    "collapsed": true
   },
   "outputs": [],
   "source": [
    "SAMPLE_SIZE = 100000"
   ]
  },
  {
   "cell_type": "code",
   "execution_count": 3,
   "metadata": {
    "collapsed": true
   },
   "outputs": [],
   "source": [
    "def get_normal_params(lower_limit, upper_limit, confidence):\n",
    "    mean = 0.5 * (lower_limit + upper_limit)\n",
    "    alpha = 1 - (1 - confidence) * 0.5\n",
    "    sig = (upper_limit - mean) / scipy.stats.norm.ppf(alpha)\n",
    "    return mean, sig"
   ]
  },
  {
   "cell_type": "code",
   "execution_count": 4,
   "metadata": {
    "collapsed": true
   },
   "outputs": [],
   "source": [
    "def get_lognormal_params(lower_limit, upper_limit, confidence):\n",
    "    lower_normal = np.log(lower_limit)\n",
    "    upper_normal = np.log(upper_limit)\n",
    "    return get_normal_params(lower_normal, upper_normal, confidence)"
   ]
  },
  {
   "cell_type": "code",
   "execution_count": 5,
   "metadata": {
    "collapsed": true
   },
   "outputs": [],
   "source": [
    "def get_normal_sample(lower_limit, upper_limit, confidence=0.90):\n",
    "    \"\"\"\n",
    "    Returns a normal sample with 90% (or custom) confidence \n",
    "    in the interval given by [lower_limit, upper_limit]\n",
    "    \"\"\"\n",
    "    mean, sig = get_normal_params(lower_limit, upper_limit, confidence)\n",
    "    return np.random.normal(mean, sig, size=SAMPLE_SIZE)"
   ]
  },
  {
   "cell_type": "code",
   "execution_count": 6,
   "metadata": {
    "collapsed": true
   },
   "outputs": [],
   "source": [
    "def get_lognormal_sample(lower_limit, upper_limit, confidence=0.90):\n",
    "    \"\"\"\n",
    "    Returns a lognormal sample with 90% (or custom) confidence \n",
    "    in the interval given by [lower_limit, upper_limit]\n",
    "    \"\"\"\n",
    "    mean, sig = get_lognormal_params(lower_limit, upper_limit, confidence)\n",
    "    return np.random.lognormal(mean, sig, size=SAMPLE_SIZE)"
   ]
  },
  {
   "cell_type": "markdown",
   "metadata": {},
   "source": [
    "# Parameters"
   ]
  },
  {
   "cell_type": "markdown",
   "metadata": {},
   "source": [
    "Probability of 10% agricultural shortfall each year"
   ]
  },
  {
   "cell_type": "code",
   "execution_count": 7,
   "metadata": {
    "collapsed": false
   },
   "outputs": [],
   "source": [
    "shortfall_prob = get_lognormal_sample(0.001, 0.1)\n",
    "# make sure it's a reasonable probability:\n",
    "shortfall_prob = np.minimum(shortfall_prob, 0.5)"
   ]
  },
  {
   "cell_type": "markdown",
   "metadata": {},
   "source": [
    "Number of lives lost (millions) due to 10% shortfall.\n",
    "Note: It would make more sense to use a different distribution (e.g. gamma), \n",
    "we work with normal for simplicity"
   ]
  },
  {
   "cell_type": "code",
   "execution_count": 8,
   "metadata": {
    "collapsed": true
   },
   "outputs": [],
   "source": [
    "lives_lost = np.random.normal(400, 200, size=SAMPLE_SIZE)"
   ]
  },
  {
   "cell_type": "markdown",
   "metadata": {},
   "source": [
    "Probability of 10% agricultural shortfall in the next how many years"
   ]
  },
  {
   "cell_type": "code",
   "execution_count": 9,
   "metadata": {
    "collapsed": true
   },
   "outputs": [],
   "source": [
    "years = 50"
   ]
  },
  {
   "cell_type": "markdown",
   "metadata": {},
   "source": [
    "Cost of 1 researcher per year (dollars)"
   ]
  },
  {
   "cell_type": "code",
   "execution_count": 10,
   "metadata": {
    "collapsed": true
   },
   "outputs": [],
   "source": [
    "cost_per_researcher = 100000"
   ]
  },
  {
   "cell_type": "markdown",
   "metadata": {},
   "source": [
    "Number of people currently working on problem"
   ]
  },
  {
   "cell_type": "code",
   "execution_count": 11,
   "metadata": {
    "collapsed": true
   },
   "outputs": [],
   "source": [
    "num_people_working = get_lognormal_sample(10, 200)\n",
    "# we know at least 1 people work at ALLFED\n",
    "num_people_working = np.maximum(1, num_people_working)"
   ]
  },
  {
   "cell_type": "markdown",
   "metadata": {},
   "source": [
    "Current probability of averting catastrophy"
   ]
  },
  {
   "cell_type": "code",
   "execution_count": 12,
   "metadata": {
    "collapsed": true
   },
   "outputs": [],
   "source": [
    "current_probability = get_lognormal_sample(0.001, 0.01)"
   ]
  },
  {
   "cell_type": "markdown",
   "metadata": {},
   "source": [
    "Reduction in probability of not saving all the people from starvation given a year of work of an additional researcher.\n",
    "(pretty ad hoc)"
   ]
  },
  {
   "cell_type": "code",
   "execution_count": 13,
   "metadata": {
    "collapsed": false
   },
   "outputs": [],
   "source": [
    "probability_reduction =  (1 - 0.1 / (num_people_working + 1))"
   ]
  },
  {
   "cell_type": "markdown",
   "metadata": {},
   "source": [
    "# Some graphs"
   ]
  },
  {
   "cell_type": "code",
   "execution_count": 14,
   "metadata": {
    "collapsed": false
   },
   "outputs": [],
   "source": [
    "shortfall_prob_longterm = 1 - np.power(1 - shortfall_prob, years)"
   ]
  },
  {
   "cell_type": "code",
   "execution_count": 15,
   "metadata": {
    "collapsed": false
   },
   "outputs": [
    {
     "data": {
      "image/png": "[encoded data removed]",
      "text/plain": [
       "<matplotlib.figure.Figure at 0x1421f3bd438>"
      ]
     },
     "metadata": {},
     "output_type": "display_data"
    },
    {
     "data": {
      "image/png": "[encoded data removed]",
      "text/plain": [
       "<matplotlib.figure.Figure at 0x1421f3bd400>"
      ]
     },
     "metadata": {},
     "output_type": "display_data"
    }
   ],
   "source": [
    "plt.hist(shortfall_prob_longterm, bins=100)\n",
    "plt.show()\n",
    "plt.hist(lives_lost, bins=100)\n",
    "plt.show()"
   ]
  },
  {
   "cell_type": "markdown",
   "metadata": {},
   "source": [
    "# Computation"
   ]
  },
  {
   "cell_type": "code",
   "execution_count": 16,
   "metadata": {
    "collapsed": false
   },
   "outputs": [
    {
     "name": "stdout",
     "output_type": "stream",
     "text": [
      "Total expected lives lost: 183.4\n",
      "Expected lives saved with current preparation: 0.743\n"
     ]
    }
   ],
   "source": [
    "expected_lives_lost = np.mean(shortfall_prob_longterm * lives_lost)\n",
    "print(\"Total expected lives lost: %.1f\" % expected_lives_lost)\n",
    "lives_saved_current = shortfall_prob_longterm * lives_lost * current_probability\n",
    "print(\"Expected lives saved with current preparation: %.3f\" % np.mean(lives_saved_current))"
   ]
  },
  {
   "cell_type": "markdown",
   "metadata": {},
   "source": [
    "Probability of saving everyone with additional researcher"
   ]
  },
  {
   "cell_type": "code",
   "execution_count": 17,
   "metadata": {
    "collapsed": false
   },
   "outputs": [
    {
     "data": {
      "image/png": "[encoded data removed]",
      "text/plain": [
       "<matplotlib.figure.Figure at 0x1421f3bd320>"
      ]
     },
     "metadata": {},
     "output_type": "display_data"
    }
   ],
   "source": [
    "new_probability = 1 - (1 - current_probability) * probability_reduction\n",
    "plt.hist(new_probability, bins=100)\n",
    "plt.show()"
   ]
  },
  {
   "cell_type": "code",
   "execution_count": 18,
   "metadata": {
    "collapsed": false
   },
   "outputs": [
    {
     "name": "stdout",
     "output_type": "stream",
     "text": [
      "Expected lives saved with additional researcher: 1.325\n"
     ]
    }
   ],
   "source": [
    "lives_saved_new = shortfall_prob_longterm * lives_lost * new_probability\n",
    "print(\"Expected lives saved with additional researcher: %.3f\" % np.mean(lives_saved_new))"
   ]
  },
  {
   "cell_type": "markdown",
   "metadata": {},
   "source": [
    "# Expected cost per life saved"
   ]
  },
  {
   "cell_type": "code",
   "execution_count": 19,
   "metadata": {
    "collapsed": false
   },
   "outputs": [
    {
     "name": "stdout",
     "output_type": "stream",
     "text": [
      "Expected cost per life saved: $58\n"
     ]
    }
   ],
   "source": [
    "cost_per_lives_saved = (lives_saved_new - lives_saved_current) * 10e6 / cost_per_researcher\n",
    "print(\"Expected cost per life saved: $%.0f\" % np.mean(cost_per_lives_saved))"
   ]
  },
  {
   "cell_type": "markdown",
   "metadata": {},
   "source": [
    "This measure is not necessarily the most meaningful, but a good reality check to be compared with the \\$0.20-\\$400 interval given in [ALLFED's article](http://effective-altruism.com/ea/1hq/how_you_can_save_expected_lives_for_020400_each/)."
   ]
  }
 ],
 "metadata": {
  "anaconda-cloud": {},
  "kernelspec": {
   "display_name": "Python [conda env:py35]",
   "language": "python",
   "name": "conda-env-py35-py"
  },
  "language_info": {
   "codemirror_mode": {
    "name": "ipython",
    "version": 3
   },
   "file_extension": ".py",
   "mimetype": "text/x-python",
   "name": "python",
   "nbconvert_exporter": "python",
   "pygments_lexer": "ipython3",
   "version": "3.5.2"
  }
 },
 "nbformat": 4,
 "nbformat_minor": 1
}
